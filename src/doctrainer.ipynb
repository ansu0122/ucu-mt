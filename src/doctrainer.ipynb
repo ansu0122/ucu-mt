{
 "cells": [
  {
   "cell_type": "code",
   "execution_count": null,
   "metadata": {},
   "outputs": [],
   "source": [
    "import os\n",
    "from unsloth import FastVisionModel, is_bf16_supported\n",
    "from unsloth.trainer import UnslothVisionDataCollator\n",
    "from trl import SFTTrainer, SFTConfig\n",
    "import torch\n",
    "import docdataset as dd\n",
    "import wandb\n",
    "from dotenv import load_dotenv\n",
    "load_dotenv()"
   ]
  },
  {
   "cell_type": "code",
   "execution_count": 1,
   "metadata": {},
   "outputs": [],
   "source": [
    "your_name='ansu0122'\n",
    "model_save_name='uadoc-ada-qwen2.5vl'"
   ]
  },
  {
   "cell_type": "code",
   "execution_count": null,
   "metadata": {},
   "outputs": [],
   "source": [
    "# Hyperparameters\n",
    "device = torch.device(\"cuda\" if torch.cuda.is_available() else \"mps\" if torch.backends.mps.is_available() else \"cpu\")\n",
    "\n",
    "seed = 3407\n",
    "\n",
    "model_name = \"unsloth/Qwen2.5-VL-7B-Instruct\"\n",
    "load_in_4bit = False\n",
    "\n",
    "lora_r = 16\n",
    "lora_alpha = 16\n",
    "\n",
    "max_steps = 30\n",
    "num_train_epochs = 1\n",
    "warmup_steps = 5\n",
    "\n",
    "learning_rate = 2e-4\n",
    "weight_decay = 0.01\n",
    "optim = \"adamw_8bit\"\n",
    "lr_scheduler_type = \"linear\"\n",
    "\n",
    "per_device_train_batch_size = 2\n",
    "gradient_accumulation_steps = 4\n",
    "max_seq_length = 2048\n",
    "\n",
    "dataset_num_proc = 4"
   ]
  },
  {
   "cell_type": "code",
   "execution_count": null,
   "metadata": {},
   "outputs": [],
   "source": [
    "WANDB_API_KEY = os.getenv(\"WANDB_API_KEY\")\n",
    "wandb.login(key=WANDB_API_KEY)\n",
    "\n",
    "run = wandb.init(\n",
    "    entity=\"uadoc-ada-qwen2.5vl\",\n",
    "    project=\"uadoc-ada\",\n",
    "    name=\"uadoc-ada-qwen2.5vl\",\n",
    "    tags=[\"docai\", \"qwen2.5vl\"],\n",
    "    config={\n",
    "        \"seed\": seed,\n",
    "\n",
    "        \"model_name\": model_name,\n",
    "\n",
    "        \"max_steps\": max_steps,\n",
    "        \"num_train_epochs\": num_train_epochs,\n",
    "        \"warmup_steps\": warmup_steps,\n",
    "\n",
    "        \"learning_rate\": learning_rate,\n",
    "        \"weight_decay\": weight_decay,\n",
    "        \"optim\": optim,\n",
    "        \"lr_scheduler_type\": lr_scheduler_type,\n",
    "\n",
    "        \"per_device_train_batch_size\": per_device_train_batch_size,\n",
    "        \"gradient_accumulation_steps\": gradient_accumulation_steps,\n",
    "        \"max_seq_length\": max_seq_length,\n",
    "\n",
    "        \"dataset_num_proc\": dataset_num_proc,\n",
    "    }\n",
    ")\n"
   ]
  },
  {
   "cell_type": "markdown",
   "metadata": {},
   "source": [
    "### Downloading the Model"
   ]
  },
  {
   "cell_type": "code",
   "execution_count": null,
   "metadata": {},
   "outputs": [],
   "source": [
    "model, tokenizer = FastVisionModel.from_pretrained(\n",
    "    model_name,\n",
    "    load_in_4bit = load_in_4bit, # Use 4bit to reduce memory use. False for 16bit LoRA.\n",
    "    use_gradient_checkpointing = \"unsloth\", # True or \"unsloth\" for long context\n",
    ")"
   ]
  },
  {
   "cell_type": "markdown",
   "metadata": {},
   "source": [
    "### Adding LoRA"
   ]
  },
  {
   "cell_type": "code",
   "execution_count": null,
   "metadata": {},
   "outputs": [],
   "source": [
    "model = FastVisionModel.get_peft_model(\n",
    "    model,\n",
    "    finetune_vision_layers     = True, # False if not finetuning vision layers\n",
    "    finetune_language_layers   = True, # False if not finetuning language layers\n",
    "    finetune_attention_modules = True, # False if not finetuning attention layers\n",
    "    finetune_mlp_modules       = True, # False if not finetuning MLP layers\n",
    "\n",
    "    r = lora_r,           # The larger, the higher the accuracy, but might overfit\n",
    "    lora_alpha = lora_alpha,  # Recommended alpha == r at least\n",
    "    lora_dropout = 0,\n",
    "    bias = \"none\",\n",
    "    random_state = seed,\n",
    "    use_rslora = False,  # We support rank stabilized LoRA\n",
    "    loftq_config = None, # And LoftQ\n",
    "    # target_modules = \"all-linear\", # Optional now! Can specify a list if needed\n",
    ")"
   ]
  },
  {
   "cell_type": "markdown",
   "metadata": {},
   "source": [
    "### Data Prep"
   ]
  },
  {
   "cell_type": "code",
   "execution_count": 27,
   "metadata": {},
   "outputs": [],
   "source": [
    "import docdataset as dd\n",
    "import prompt_templates as pt\n",
    "import string_util as su\n",
    "from datasets import Dataset"
   ]
  },
  {
   "cell_type": "code",
   "execution_count": 32,
   "metadata": {},
   "outputs": [],
   "source": [
    "dataset = dd.download_dataset()['train']\n",
    "train_dataset = dataset.filter(lambda x: x[\"split\"] == \"train\")\n",
    "test_dataset = dataset.filter(lambda x: x[\"split\"] == \"test\")"
   ]
  },
  {
   "cell_type": "code",
   "execution_count": null,
   "metadata": {},
   "outputs": [
    {
     "data": {
      "text/plain": [
       "7200"
      ]
     },
     "execution_count": 38,
     "metadata": {},
     "output_type": "execute_result"
    }
   ],
   "source": [
    "train_dataset_inflated = dd.prep_train_data(train_dataset)\n",
    "train_dataset_inflated = train_dataset_inflated.shuffle(seed=seed)\n",
    "len(train_dataset_inflated)"
   ]
  },
  {
   "cell_type": "code",
   "execution_count": null,
   "metadata": {},
   "outputs": [
    {
     "data": {
      "text/plain": [
       "1800"
      ]
     },
     "execution_count": 39,
     "metadata": {},
     "output_type": "execute_result"
    }
   ],
   "source": [
    "test_dataset_inflated = dd.prep_train_data(test_dataset)\n",
    "test_dataset_inflated = test_dataset_inflated.shuffle(seed=seed)\n",
    "len(test_dataset_inflated)"
   ]
  },
  {
   "cell_type": "code",
   "execution_count": 41,
   "metadata": {},
   "outputs": [
    {
     "data": {
      "text/plain": [
       "{'id': 'e6a6214169b7469299f4eb91a7b356fe',\n",
       " 'image': <PIL.PngImagePlugin.PngImageFile image mode=RGB size=764x161>,\n",
       " 'focus': 'table',\n",
       " 'content': '<table><tbody><tr><td>Загальна кількість країн</td><td></td><td></td><td></td><td></td><td></td><td>50</td></tr><tr><td>Кількість очок до зміни зон</td><td></td><td></td><td></td><td></td><td></td><td>2</td></tr><tr><td>Кількість очок перед зміною сторін після першої частини гри</td><td></td><td></td><td></td><td></td><td></td><td>незалежно</td></tr></tbody></table>',\n",
       " 'prompt': '\\n        Витягни таблицю з даними, що міститься на зображенні, у форматі HTML.\\n\\n        Вимоги:\\n        – Поверни лише HTML-код таблиці, без додаткового тексту чи опису.\\n        – Залиш текст у комірках таким, як він є на зображенні.\\n        – Збережи структуру таблиці, включно з усіма рядками (`<tr>`) та комірками (`<td>`), відповідно до оригінального вигляду.\\n        - Уникай використання тегів для заголовків (`<thead>`, `<th>`).\\n        – Використовуй тег `<table>` для обгортки всієї таблиці.\\n        – Комірки без вмісту відображай як `<td></td>`.\\n        – Залиш багаторядкові комірки у вихідному вигляді, зберігаючи розриви рядків.\\n        \\n\\n        Важливо:\\n        Будь-яке редагування, переклад, форматування чи пояснення — недопустимі. Тільки HTML-таблиця.\\n    ',\n",
       " 'requested': 'table'}"
      ]
     },
     "execution_count": 41,
     "metadata": {},
     "output_type": "execute_result"
    }
   ],
   "source": [
    "train_dataset_inflated[0]"
   ]
  },
  {
   "cell_type": "code",
   "execution_count": 42,
   "metadata": {},
   "outputs": [],
   "source": [
    "def convert_to_conversation(sample):\n",
    "    conversation = [\n",
    "        { \"role\": \"user\",\n",
    "          \"content\" : [\n",
    "            {\"type\" : \"text\",  \"text\"  : sample[\"prompt\"]},\n",
    "            {\"type\" : \"image\", \"image\" : sample[\"image\"]} ]\n",
    "        },\n",
    "        { \"role\" : \"assistant\",\n",
    "          \"content\" : [\n",
    "            {\"type\" : \"text\",  \"text\"  : sample[\"content\"]} ]\n",
    "        },\n",
    "    ]\n",
    "    return { \"messages\" : conversation }\n",
    "pass"
   ]
  },
  {
   "cell_type": "code",
   "execution_count": 45,
   "metadata": {},
   "outputs": [
    {
     "data": {
      "text/plain": [
       "7200"
      ]
     },
     "execution_count": 45,
     "metadata": {},
     "output_type": "execute_result"
    }
   ],
   "source": [
    "train_dataset_converted = Dataset.from_list([convert_to_conversation(sample) for sample in train_dataset_inflated])\n",
    "len(train_dataset_converted)"
   ]
  },
  {
   "cell_type": "code",
   "execution_count": 46,
   "metadata": {},
   "outputs": [
    {
     "data": {
      "text/plain": [
       "1800"
      ]
     },
     "execution_count": 46,
     "metadata": {},
     "output_type": "execute_result"
    }
   ],
   "source": [
    "test_dataset_converted = Dataset.from_list([convert_to_conversation(sample) for sample in test_dataset_inflated])\n",
    "len(test_dataset_converted)"
   ]
  },
  {
   "cell_type": "markdown",
   "metadata": {},
   "source": [
    "### Training Setup"
   ]
  },
  {
   "cell_type": "code",
   "execution_count": null,
   "metadata": {},
   "outputs": [],
   "source": [
    "from transformers import TrainerCallback, TrainerControl, TrainerState, TrainingArguments\n",
    "\n",
    "class EmptyCacheCallback(TrainerCallback):\n",
    "    def on_step_end(self, args: TrainingArguments, state: TrainerState, control: TrainerControl, **kwargs):\n",
    "        torch.cuda.empty_cache()\n",
    "        return control\n",
    "    \n",
    "callbacks = [EmptyCacheCallback()]"
   ]
  },
  {
   "cell_type": "code",
   "execution_count": null,
   "metadata": {},
   "outputs": [],
   "source": [
    "FastVisionModel.for_training(model) # Enable for training!\n",
    "\n",
    "trainer = SFTTrainer(\n",
    "    model = model,\n",
    "    tokenizer = tokenizer,\n",
    "    data_collator = UnslothVisionDataCollator(model, tokenizer), # Must use!\n",
    "    train_dataset = train_dataset_converted,\n",
    "    eval_dataset=test_dataset_converted,\n",
    "    callbacks = callbacks,\n",
    "    args = SFTConfig(\n",
    "        per_device_train_batch_size = per_device_train_batch_size,\n",
    "        gradient_accumulation_steps = gradient_accumulation_steps,\n",
    "        warmup_steps = warmup_steps,\n",
    "        max_steps = max_steps,\n",
    "        # num_train_epochs = num_train_epochs, # Set this instead of max_steps for full training runs\n",
    "        learning_rate = learning_rate,\n",
    "        fp16 = not is_bf16_supported(),\n",
    "        bf16 = is_bf16_supported(),\n",
    "\n",
    "        optim = optim,\n",
    "        weight_decay = weight_decay,\n",
    "        lr_scheduler_type = lr_scheduler_type,\n",
    "        seed = seed,\n",
    "        output_dir = \"train_outputs\",\n",
    "\n",
    "        report_to = \"wandb\",     # For Weights and Biases\n",
    "        logging_steps = 1,            # Log every N steps\n",
    "        evaluation_strategy = \"steps\", # 👈 Required for validation logging\n",
    "        eval_steps = 10,               # Evaluate every N steps\n",
    "\n",
    "        save_steps = 10,  # Save checkpoint every N steps\n",
    "        save_total_limit = 3,  # Keep only the last 3 checkpoints\n",
    "        push_to_hub = True,\n",
    "        hub_model_id = f\"{your_name}/{model_save_name}\",\n",
    "        hub_token = os.environ[\"HF_TOKEN\"],\n",
    "        hub_strategy = \"checkpoint\",\n",
    "\n",
    "        # You MUST put the below items for vision finetuning:\n",
    "        remove_unused_columns = False,\n",
    "        dataset_text_field = \"\",\n",
    "        dataset_kwargs = {\"skip_prepare_dataset\": True},\n",
    "        dataset_num_proc = dataset_num_proc,\n",
    "        max_seq_length = max_seq_length,\n",
    "    ),\n",
    ")"
   ]
  },
  {
   "cell_type": "code",
   "execution_count": null,
   "metadata": {},
   "outputs": [],
   "source": [
    "#@title Show current memory stats\n",
    "gpu_stats = torch.cuda.get_device_properties(0)\n",
    "start_gpu_memory = round(torch.cuda.max_memory_reserved() / 1024 / 1024 / 1024, 3)\n",
    "max_memory = round(gpu_stats.total_memory / 1024 / 1024 / 1024, 3)\n",
    "print(f\"GPU = {gpu_stats.name}. Max memory = {max_memory} GB.\")\n",
    "print(f\"{start_gpu_memory} GB of memory reserved.\")"
   ]
  },
  {
   "cell_type": "code",
   "execution_count": null,
   "metadata": {},
   "outputs": [],
   "source": [
    "trainer_stats = trainer.train()"
   ]
  },
  {
   "cell_type": "code",
   "execution_count": null,
   "metadata": {},
   "outputs": [],
   "source": [
    "#@title Show final memory and time stats\n",
    "used_memory = round(torch.cuda.max_memory_reserved() / 1024 / 1024 / 1024, 3)\n",
    "used_memory_for_lora = round(used_memory - start_gpu_memory, 3)\n",
    "used_percentage = round(used_memory         /max_memory*100, 3)\n",
    "lora_percentage = round(used_memory_for_lora/max_memory*100, 3)\n",
    "print(f\"{trainer_stats.metrics['train_runtime']} seconds used for training.\")\n",
    "print(f\"{round(trainer_stats.metrics['train_runtime']/60, 2)} minutes used for training.\")\n",
    "print(f\"Peak reserved memory = {used_memory} GB.\")\n",
    "print(f\"Peak reserved memory for training = {used_memory_for_lora} GB.\")\n",
    "print(f\"Peak reserved memory % of max memory = {used_percentage} %.\")\n",
    "print(f\"Peak reserved memory for training % of max memory = {lora_percentage} %.\")"
   ]
  },
  {
   "cell_type": "markdown",
   "metadata": {},
   "source": [
    "### Saving the Latest Model"
   ]
  },
  {
   "cell_type": "code",
   "execution_count": null,
   "metadata": {},
   "outputs": [],
   "source": [
    "your_name='ansu0122'\n",
    "model_save_name='mistral-lora-zno'\n",
    "# model.save_pretrained(model_save_name)  # Local saving\n",
    "# tokenizer.save_pretrained(model_save_name)\n",
    "\n",
    "model.push_to_hub(f\"{your_name}/{model_save_name}\", token = os.environ[\"HF_TOKEN\"], private=True)\n",
    "tokenizer.push_to_hub(f\"{your_name}/{model_save_name}\", token = os.environ[\"HF_TOKEN\"], private=True)"
   ]
  }
 ],
 "metadata": {
  "kernelspec": {
   "display_name": "python3.10-mt-vlm",
   "language": "python",
   "name": "python3"
  },
  "language_info": {
   "codemirror_mode": {
    "name": "ipython",
    "version": 3
   },
   "file_extension": ".py",
   "mimetype": "text/x-python",
   "name": "python",
   "nbconvert_exporter": "python",
   "pygments_lexer": "ipython3",
   "version": "3.10.14"
  }
 },
 "nbformat": 4,
 "nbformat_minor": 2
}
