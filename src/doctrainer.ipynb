{
 "cells": [
  {
   "cell_type": "code",
   "execution_count": 1,
   "metadata": {},
   "outputs": [
    {
     "name": "stdout",
     "output_type": "stream",
     "text": [
      "🦥 Unsloth: Will patch your computer to enable 2x faster free finetuning.\n"
     ]
    },
    {
     "name": "stderr",
     "output_type": "stream",
     "text": [
      "/root/miniconda3/envs/python3.10-mt-vlm/lib/python3.10/site-packages/tqdm/auto.py:21: TqdmWarning: IProgress not found. Please update jupyter and ipywidgets. See https://ipywidgets.readthedocs.io/en/stable/user_install.html\n",
      "  from .autonotebook import tqdm as notebook_tqdm\n"
     ]
    },
    {
     "name": "stdout",
     "output_type": "stream",
     "text": [
      "Unsloth: Failed to patch Gemma3ForConditionalGeneration.\n",
      "🦥 Unsloth Zoo will now patch everything to make training faster!\n"
     ]
    },
    {
     "data": {
      "text/plain": [
       "True"
      ]
     },
     "execution_count": 1,
     "metadata": {},
     "output_type": "execute_result"
    }
   ],
   "source": [
    "import os\n",
    "from unsloth import FastVisionModel, is_bf16_supported\n",
    "from unsloth.trainer import UnslothVisionDataCollator\n",
    "from trl import SFTTrainer, SFTConfig\n",
    "import torch\n",
    "import docdataset as dd\n",
    "import wandb\n",
    "from dotenv import load_dotenv\n",
    "load_dotenv()"
   ]
  },
  {
   "cell_type": "code",
   "execution_count": 2,
   "metadata": {},
   "outputs": [],
   "source": [
    "your_name='ansu0122'\n",
    "model_save_name='uadoc-ada-qwen2.5vl'"
   ]
  },
  {
   "cell_type": "code",
   "execution_count": 3,
   "metadata": {},
   "outputs": [],
   "source": [
    "# Hyperparameters\n",
    "device = torch.device(\"cuda\" if torch.cuda.is_available() else \"mps\" if torch.backends.mps.is_available() else \"cpu\")\n",
    "\n",
    "seed = 3407\n",
    "\n",
    "model_name = \"unsloth/Qwen2.5-VL-7B-Instruct\"\n",
    "load_in_4bit = False\n",
    "\n",
    "lora_r = 16\n",
    "lora_alpha = 16\n",
    "\n",
    "max_steps = 30\n",
    "num_train_epochs = 1\n",
    "warmup_steps = 5\n",
    "\n",
    "learning_rate = 2e-4\n",
    "weight_decay = 0.01\n",
    "optim = \"adamw_8bit\"\n",
    "lr_scheduler_type = \"linear\"\n",
    "\n",
    "per_device_train_batch_size = 2\n",
    "gradient_accumulation_steps = 4\n",
    "max_seq_length = 2048\n",
    "\n",
    "dataset_num_proc = 4"
   ]
  },
  {
   "cell_type": "code",
   "execution_count": 26,
   "metadata": {},
   "outputs": [
    {
     "name": "stderr",
     "output_type": "stream",
     "text": [
      "\u001b[34m\u001b[1mwandb\u001b[0m: \u001b[33mWARNING\u001b[0m Calling wandb.login() after wandb.init() has no effect.\n"
     ]
    },
    {
     "data": {
      "text/html": [],
      "text/plain": [
       "<IPython.core.display.HTML object>"
      ]
     },
     "metadata": {},
     "output_type": "display_data"
    },
    {
     "data": {
      "text/html": [
       " View run <strong style=\"color:#cdcd00\">uadoc-ada-qwen2.5vl</strong> at: <a href='https://wandb.ai/andriy-suh-private/uadoc-ada/runs/x5tkma4m' target=\"_blank\">https://wandb.ai/andriy-suh-private/uadoc-ada/runs/x5tkma4m</a><br> View project at: <a href='https://wandb.ai/andriy-suh-private/uadoc-ada' target=\"_blank\">https://wandb.ai/andriy-suh-private/uadoc-ada</a><br>Synced 5 W&B file(s), 0 media file(s), 0 artifact file(s) and 0 other file(s)"
      ],
      "text/plain": [
       "<IPython.core.display.HTML object>"
      ]
     },
     "metadata": {},
     "output_type": "display_data"
    },
    {
     "data": {
      "text/html": [
       "Find logs at: <code>./wandb/run-20250406_221127-x5tkma4m/logs</code>"
      ],
      "text/plain": [
       "<IPython.core.display.HTML object>"
      ]
     },
     "metadata": {},
     "output_type": "display_data"
    },
    {
     "data": {
      "text/html": [
       "Tracking run with wandb version 0.19.9"
      ],
      "text/plain": [
       "<IPython.core.display.HTML object>"
      ]
     },
     "metadata": {},
     "output_type": "display_data"
    },
    {
     "data": {
      "text/html": [
       "Run data is saved locally in <code>/workspace/ucu-mt/src/wandb/run-20250406_221136-hgp38mou</code>"
      ],
      "text/plain": [
       "<IPython.core.display.HTML object>"
      ]
     },
     "metadata": {},
     "output_type": "display_data"
    },
    {
     "data": {
      "text/html": [
       "Syncing run <strong><a href='https://wandb.ai/andriy-suh-private/uadoc-ada/runs/hgp38mou' target=\"_blank\">uadoc-ada-qwen2.5vl</a></strong> to <a href='https://wandb.ai/andriy-suh-private/uadoc-ada' target=\"_blank\">Weights & Biases</a> (<a href='https://wandb.me/developer-guide' target=\"_blank\">docs</a>)<br>"
      ],
      "text/plain": [
       "<IPython.core.display.HTML object>"
      ]
     },
     "metadata": {},
     "output_type": "display_data"
    },
    {
     "data": {
      "text/html": [
       " View project at <a href='https://wandb.ai/andriy-suh-private/uadoc-ada' target=\"_blank\">https://wandb.ai/andriy-suh-private/uadoc-ada</a>"
      ],
      "text/plain": [
       "<IPython.core.display.HTML object>"
      ]
     },
     "metadata": {},
     "output_type": "display_data"
    },
    {
     "data": {
      "text/html": [
       " View run at <a href='https://wandb.ai/andriy-suh-private/uadoc-ada/runs/hgp38mou' target=\"_blank\">https://wandb.ai/andriy-suh-private/uadoc-ada/runs/hgp38mou</a>"
      ],
      "text/plain": [
       "<IPython.core.display.HTML object>"
      ]
     },
     "metadata": {},
     "output_type": "display_data"
    }
   ],
   "source": [
    "WANDB_API_KEY = os.getenv(\"WANDB_API_KEY\")\n",
    "wandb.login(key=WANDB_API_KEY)\n",
    "\n",
    "run = wandb.init(\n",
    "    project=\"uadoc-ada\",\n",
    "    name=\"uadoc-ada-qwen2.5vl\",\n",
    "    tags=[\"docai\", \"qwen2.5vl\"],\n",
    "    config={\n",
    "        \"seed\": seed,\n",
    "\n",
    "        \"model_name\": model_name,\n",
    "\n",
    "        \"max_steps\": max_steps,\n",
    "        \"num_train_epochs\": num_train_epochs,\n",
    "        \"warmup_steps\": warmup_steps,\n",
    "\n",
    "        \"learning_rate\": learning_rate,\n",
    "        \"weight_decay\": weight_decay,\n",
    "        \"optim\": optim,\n",
    "        \"lr_scheduler_type\": lr_scheduler_type,\n",
    "\n",
    "        \"per_device_train_batch_size\": per_device_train_batch_size,\n",
    "        \"gradient_accumulation_steps\": gradient_accumulation_steps,\n",
    "        \"max_seq_length\": max_seq_length,\n",
    "\n",
    "        \"dataset_num_proc\": dataset_num_proc,\n",
    "    }\n",
    ")\n"
   ]
  },
  {
   "cell_type": "markdown",
   "metadata": {},
   "source": [
    "### Downloading the Model"
   ]
  },
  {
   "cell_type": "code",
   "execution_count": 5,
   "metadata": {},
   "outputs": [
    {
     "name": "stdout",
     "output_type": "stream",
     "text": [
      "==((====))==  Unsloth 2025.3.19: Fast Qwen2_5_Vl patching. Transformers: 4.51.0.\n",
      "   \\\\   /|    NVIDIA GeForce RTX 4090. Num GPUs = 2. Max memory: 23.643 GB. Platform: Linux.\n",
      "O^O/ \\_/ \\    Torch: 2.6.0+cu124. CUDA: 8.9. CUDA Toolkit: 12.4. Triton: 3.2.0\n",
      "\\        /    Bfloat16 = TRUE. FA [Xformers = 0.0.29.post3. FA2 = False]\n",
      " \"-____-\"     Free license: http://github.com/unslothai/unsloth\n",
      "Unsloth: Fast downloading is enabled - ignore downloading bars which are red colored!\n",
      "Unsloth: QLoRA and full finetuning all not selected. Switching to 16bit LoRA.\n"
     ]
    },
    {
     "name": "stderr",
     "output_type": "stream",
     "text": [
      "Loading checkpoint shards: 100%|██████████| 5/5 [00:02<00:00,  1.86it/s]\n",
      "Using a slow image processor as `use_fast` is unset and a slow processor was saved with this model. `use_fast=True` will be the default behavior in v4.52, even if the model was saved with a slow processor. This will result in minor differences in outputs. You'll still be able to use a slow processor with `use_fast=False`.\n"
     ]
    }
   ],
   "source": [
    "model, tokenizer = FastVisionModel.from_pretrained(\n",
    "    model_name,\n",
    "    load_in_4bit = load_in_4bit, # Use 4bit to reduce memory use. False for 16bit LoRA.\n",
    "    use_gradient_checkpointing = \"unsloth\", # True or \"unsloth\" for long context\n",
    ")"
   ]
  },
  {
   "cell_type": "markdown",
   "metadata": {},
   "source": [
    "### Adding LoRA"
   ]
  },
  {
   "cell_type": "code",
   "execution_count": 6,
   "metadata": {},
   "outputs": [],
   "source": [
    "model = FastVisionModel.get_peft_model(\n",
    "    model,\n",
    "    finetune_vision_layers     = True, # False if not finetuning vision layers\n",
    "    finetune_language_layers   = True, # False if not finetuning language layers\n",
    "    finetune_attention_modules = True, # False if not finetuning attention layers\n",
    "    finetune_mlp_modules       = True, # False if not finetuning MLP layers\n",
    "\n",
    "    r = lora_r,           # The larger, the higher the accuracy, but might overfit\n",
    "    lora_alpha = lora_alpha,  # Recommended alpha == r at least\n",
    "    lora_dropout = 0,\n",
    "    bias = \"none\",\n",
    "    random_state = seed,\n",
    "    use_rslora = False,  # We support rank stabilized LoRA\n",
    "    loftq_config = None, # And LoftQ\n",
    "    # target_modules = \"all-linear\", # Optional now! Can specify a list if needed\n",
    ")"
   ]
  },
  {
   "cell_type": "markdown",
   "metadata": {},
   "source": [
    "### Data Prep"
   ]
  },
  {
   "cell_type": "code",
   "execution_count": 7,
   "metadata": {},
   "outputs": [],
   "source": [
    "import docdataset as dd\n",
    "import prompt_templates as pt\n",
    "import string_util as su\n",
    "from datasets import Dataset"
   ]
  },
  {
   "cell_type": "code",
   "execution_count": 8,
   "metadata": {},
   "outputs": [],
   "source": [
    "dataset = dd.download_dataset()['train']\n",
    "train_dataset = dataset.filter(lambda x: x[\"split\"] == \"train\")\n",
    "test_dataset = dataset.filter(lambda x: x[\"split\"] == \"test\")"
   ]
  },
  {
   "cell_type": "code",
   "execution_count": 9,
   "metadata": {},
   "outputs": [
    {
     "data": {
      "text/plain": [
       "7200"
      ]
     },
     "execution_count": 9,
     "metadata": {},
     "output_type": "execute_result"
    }
   ],
   "source": [
    "train_dataset_inflated = dd.prep_train_data(train_dataset)\n",
    "train_dataset_inflated = train_dataset_inflated.shuffle(seed=seed)\n",
    "len(train_dataset_inflated)"
   ]
  },
  {
   "cell_type": "code",
   "execution_count": 10,
   "metadata": {},
   "outputs": [
    {
     "data": {
      "text/plain": [
       "1800"
      ]
     },
     "execution_count": 10,
     "metadata": {},
     "output_type": "execute_result"
    }
   ],
   "source": [
    "test_dataset_inflated = dd.prep_train_data(test_dataset)\n",
    "test_dataset_inflated = test_dataset_inflated.shuffle(seed=seed)\n",
    "len(test_dataset_inflated)"
   ]
  },
  {
   "cell_type": "code",
   "execution_count": 13,
   "metadata": {},
   "outputs": [
    {
     "data": {
      "text/plain": [
       "{'id': '231fa7040af64daeb179a96a9c988019',\n",
       " 'image': <PIL.PngImagePlugin.PngImageFile image mode=RGB size=764x299>,\n",
       " 'focus': 'table',\n",
       " 'content': \"<table><tbody><tr><td>Період</td><td>Середина 5 тис. до Р.Х.</td><td>Кінець 5 тис. до Р.Х.</td><td>Друга половина 4 тис. до Р.Х.</td><td>Розрив</td><td>500 років</td><td>Орієнтація</td></tr><tr><td>Матеріали</td><td>Кремінь</td><td>Обсидіан</td><td>Мідь</td><td>Перламутр</td><td>Грунт</td><td>Схід</td></tr><tr><td>Пам'ятки</td><td>Яма</td><td>Чаплі</td><td>Петро-Свистунове</td><td>Луганськ</td><td>Кривий Ріг</td><td>Інші</td></tr><tr><td>Ритуали</td><td>Вохра</td><td>Поховання</td><td>Кургани</td><td>Спина</td><td>Коліна догори</td><td>Захоронення</td></tr><tr><td>Вироби</td><td>Ножі</td><td>Сокири</td><td>Браслети</td><td>Намисто</td><td>Підвіски</td><td>Списи</td></tr></tbody></table>\",\n",
       " 'prompt': '\\n        Витягни таблицю з даними, що міститься на зображенні, у форматі HTML.\\n\\n        Вимоги:\\n        – Поверни лише HTML-код таблиці, без додаткового тексту чи опису.\\n        – Залиш текст у комірках таким, як він є на зображенні.\\n        – Збережи структуру таблиці, включно з усіма рядками (`<tr>`) та комірками (`<td>`), відповідно до оригінального вигляду.\\n        - Уникай використання тегів для заголовків (`<thead>`, `<th>`).\\n        – Використовуй тег `<table>` для обгортки всієї таблиці.\\n        – Комірки без вмісту відображай як `<td></td>`.\\n        – Залиш багаторядкові комірки у вихідному вигляді, зберігаючи розриви рядків.\\n        \\n\\n        Важливо:\\n        Будь-яке редагування, переклад, форматування чи пояснення — недопустимі. Тільки HTML-таблиця.\\n    ',\n",
       " 'requested': 'table'}"
      ]
     },
     "execution_count": 13,
     "metadata": {},
     "output_type": "execute_result"
    }
   ],
   "source": [
    "train_dataset_inflated[0]"
   ]
  },
  {
   "cell_type": "code",
   "execution_count": 14,
   "metadata": {},
   "outputs": [],
   "source": [
    "from PIL import Image, ImageFile\n",
    "ImageFile.LOAD_TRUNCATED_IMAGES = True  # Optional: prevents crash on bad JPEGs\n",
    "\n",
    "def convert_to_conversation(sample):\n",
    "    # Check if image is None\n",
    "    if sample.get(\"image\") is None:\n",
    "        raise ValueError(f\"Image cannot be None: {sample.get('id', 'unknown')}\")\n",
    "\n",
    "    # Check if it's a PIL image\n",
    "    if not isinstance(sample[\"image\"], Image.Image):\n",
    "        raise TypeError(f\"Image must be a PIL Image, got {type(sample['image'])}: {sample.get('id', 'unknown')}\")\n",
    "\n",
    "    # Build the conversation\n",
    "    conversation = [\n",
    "        {\n",
    "            \"role\": \"user\",\n",
    "            \"content\": [\n",
    "                {\"type\": \"text\", \"text\": sample[\"prompt\"]},\n",
    "                {\"type\": \"image\", \"image\": sample[\"image\"]},\n",
    "            ],\n",
    "        },\n",
    "        {\n",
    "            \"role\": \"assistant\",\n",
    "            \"content\": [\n",
    "                {\"type\": \"text\", \"text\": sample[\"content\"]}\n",
    "            ],\n",
    "        },\n",
    "    ]\n",
    "    return {\"messages\": conversation}\n"
   ]
  },
  {
   "cell_type": "code",
   "execution_count": 22,
   "metadata": {},
   "outputs": [
    {
     "data": {
      "text/plain": [
       "7200"
      ]
     },
     "execution_count": 22,
     "metadata": {},
     "output_type": "execute_result"
    }
   ],
   "source": [
    "train_dataset_converted = Dataset.from_list([convert_to_conversation(sample) for sample in train_dataset_inflated])\n",
    "len(train_dataset_converted)"
   ]
  },
  {
   "cell_type": "code",
   "execution_count": null,
   "metadata": {},
   "outputs": [],
   "source": [
    "test_dataset_converted = Dataset.from_list([convert_to_conversation(sample) for sample in test_dataset_inflated])\n",
    "len(test_dataset_converted)"
   ]
  },
  {
   "cell_type": "markdown",
   "metadata": {},
   "source": [
    "### Training Setup"
   ]
  },
  {
   "cell_type": "code",
   "execution_count": 17,
   "metadata": {},
   "outputs": [],
   "source": [
    "from transformers import TrainerCallback, TrainerControl, TrainerState, TrainingArguments\n",
    "\n",
    "class EmptyCacheCallback(TrainerCallback):\n",
    "    def on_step_end(self, args: TrainingArguments, state: TrainerState, control: TrainerControl, **kwargs):\n",
    "        torch.cuda.empty_cache()\n",
    "        return control\n",
    "    \n",
    "callbacks = [EmptyCacheCallback()]"
   ]
  },
  {
   "cell_type": "code",
   "execution_count": 23,
   "metadata": {},
   "outputs": [],
   "source": [
    "del trainer"
   ]
  },
  {
   "cell_type": "code",
   "execution_count": 19,
   "metadata": {},
   "outputs": [
    {
     "name": "stdout",
     "output_type": "stream",
     "text": [
      "Unsloth: Model does not have a default image size - using 512\n"
     ]
    },
    {
     "name": "stderr",
     "output_type": "stream",
     "text": [
      "Detected kernel version 5.4.0, which is below the recommended minimum of 5.5.0; this can cause the process to hang. It is recommended to upgrade the kernel to the minimum version or higher.\n"
     ]
    }
   ],
   "source": [
    "FastVisionModel.for_training(model) # Enable for training!\n",
    "\n",
    "trainer = SFTTrainer(\n",
    "    model = model,\n",
    "    tokenizer = tokenizer,\n",
    "    data_collator = UnslothVisionDataCollator(model, tokenizer), # Must use!\n",
    "    train_dataset = train_dataset_converted,\n",
    "    eval_dataset=test_dataset_converted,\n",
    "    callbacks = callbacks,\n",
    "    args = SFTConfig(\n",
    "        per_device_train_batch_size = per_device_train_batch_size,\n",
    "        gradient_accumulation_steps = gradient_accumulation_steps,\n",
    "        warmup_steps = warmup_steps,\n",
    "        max_steps = max_steps,\n",
    "        # num_train_epochs = num_train_epochs, # Set this instead of max_steps for full training runs\n",
    "        learning_rate = learning_rate,\n",
    "        fp16 = not is_bf16_supported(),\n",
    "        bf16 = is_bf16_supported(),\n",
    "\n",
    "        optim = optim,\n",
    "        weight_decay = weight_decay,\n",
    "        lr_scheduler_type = lr_scheduler_type,\n",
    "        seed = seed,\n",
    "        output_dir = \"train_outputs\",\n",
    "\n",
    "        report_to = \"wandb\",     # For Weights and Biases\n",
    "        logging_steps = 1,            # Log every N steps\n",
    "        eval_strategy = \"steps\", # Required for validation logging\n",
    "        eval_steps = 10,               # Evaluate every N steps\n",
    "\n",
    "        save_steps = 10,  # Save checkpoint every N steps\n",
    "        save_total_limit = 3,  # Keep only the last 3 checkpoints\n",
    "        push_to_hub = True,\n",
    "        hub_model_id = f\"{your_name}/{model_save_name}\",\n",
    "        hub_token = os.environ[\"HF_TOKEN\"],\n",
    "        hub_strategy = \"checkpoint\",\n",
    "\n",
    "        # You MUST put the below items for vision finetuning:\n",
    "        remove_unused_columns = False,\n",
    "        dataset_text_field = \"\",\n",
    "        dataset_kwargs = {\"skip_prepare_dataset\": True},\n",
    "        dataset_num_proc = dataset_num_proc,\n",
    "        max_seq_length = max_seq_length,\n",
    "    ),\n",
    ")"
   ]
  },
  {
   "cell_type": "code",
   "execution_count": 20,
   "metadata": {},
   "outputs": [
    {
     "name": "stdout",
     "output_type": "stream",
     "text": [
      "GPU = NVIDIA GeForce RTX 4090. Max memory = 23.643 GB.\n",
      "15.709 GB of memory reserved.\n"
     ]
    }
   ],
   "source": [
    "#@title Show current memory stats\n",
    "gpu_stats = torch.cuda.get_device_properties(0)\n",
    "start_gpu_memory = round(torch.cuda.max_memory_reserved() / 1024 / 1024 / 1024, 3)\n",
    "max_memory = round(gpu_stats.total_memory / 1024 / 1024 / 1024, 3)\n",
    "print(f\"GPU = {gpu_stats.name}. Max memory = {max_memory} GB.\")\n",
    "print(f\"{start_gpu_memory} GB of memory reserved.\")"
   ]
  },
  {
   "cell_type": "code",
   "execution_count": 21,
   "metadata": {},
   "outputs": [
    {
     "name": "stderr",
     "output_type": "stream",
     "text": [
      "==((====))==  Unsloth - 2x faster free finetuning | Num GPUs used = 1\n",
      "   \\\\   /|    Num examples = 7,200 | Num Epochs = 1 | Total steps = 30\n",
      "O^O/ \\_/ \\    Batch size per device = 4 | Gradient accumulation steps = 4\n",
      "\\        /    Data Parallel GPUs = 1 | Total batch size (4 x 4 x 1) = 16\n",
      " \"-____-\"     Trainable parameters = 51,521,536/8,343,688,192 (0.62% trained)\n",
      "\u001b[34m\u001b[1mwandb\u001b[0m: \u001b[33mWARNING\u001b[0m The `run_name` is currently set to the same value as `TrainingArguments.output_dir`. If this was not intended, please specify a different run name by setting the `TrainingArguments.run_name` parameter.\n",
      "`use_cache=True` is incompatible with gradient checkpointing. Setting `use_cache=False`...\n"
     ]
    },
    {
     "name": "stdout",
     "output_type": "stream",
     "text": [
      "Unsloth: Will smartly offload gradients to save VRAM!\n"
     ]
    },
    {
     "data": {
      "text/html": [
       "\n",
       "    <div>\n",
       "      \n",
       "      <progress value='30' max='30' style='width:300px; height:20px; vertical-align: middle;'></progress>\n",
       "      [30/30 28:53, Epoch 0/1]\n",
       "    </div>\n",
       "    <table border=\"1\" class=\"dataframe\">\n",
       "  <thead>\n",
       " <tr style=\"text-align: left;\">\n",
       "      <th>Step</th>\n",
       "      <th>Training Loss</th>\n",
       "      <th>Validation Loss</th>\n",
       "    </tr>\n",
       "  </thead>\n",
       "  <tbody>\n",
       "    <tr>\n",
       "      <td>10</td>\n",
       "      <td>0.723900</td>\n",
       "      <td>0.843300</td>\n",
       "    </tr>\n",
       "    <tr>\n",
       "      <td>20</td>\n",
       "      <td>0.317300</td>\n",
       "      <td>0.415251</td>\n",
       "    </tr>\n",
       "    <tr>\n",
       "      <td>30</td>\n",
       "      <td>0.278600</td>\n",
       "      <td>0.268658</td>\n",
       "    </tr>\n",
       "  </tbody>\n",
       "</table><p>"
      ],
      "text/plain": [
       "<IPython.core.display.HTML object>"
      ]
     },
     "metadata": {},
     "output_type": "display_data"
    },
    {
     "name": "stderr",
     "output_type": "stream",
     "text": [
      "Unsloth: Not an error, but Qwen2_5_VLForConditionalGeneration does not accept `num_items_in_batch`.\n",
      "Using gradient accumulation will be very slightly less accurate.\n",
      "Read more on gradient accumulation issues here: https://unsloth.ai/blog/gradient\n"
     ]
    }
   ],
   "source": [
    "trainer_stats = trainer.train()"
   ]
  },
  {
   "cell_type": "code",
   "execution_count": null,
   "metadata": {},
   "outputs": [],
   "source": [
    "#@title Show final memory and time stats\n",
    "used_memory = round(torch.cuda.max_memory_reserved() / 1024 / 1024 / 1024, 3)\n",
    "used_memory_for_lora = round(used_memory - start_gpu_memory, 3)\n",
    "used_percentage = round(used_memory         /max_memory*100, 3)\n",
    "lora_percentage = round(used_memory_for_lora/max_memory*100, 3)\n",
    "print(f\"{trainer_stats.metrics['train_runtime']} seconds used for training.\")\n",
    "print(f\"{round(trainer_stats.metrics['train_runtime']/60, 2)} minutes used for training.\")\n",
    "print(f\"Peak reserved memory = {used_memory} GB.\")\n",
    "print(f\"Peak reserved memory for training = {used_memory_for_lora} GB.\")\n",
    "print(f\"Peak reserved memory % of max memory = {used_percentage} %.\")\n",
    "print(f\"Peak reserved memory for training % of max memory = {lora_percentage} %.\")"
   ]
  },
  {
   "cell_type": "markdown",
   "metadata": {},
   "source": [
    "### Saving the Latest Model"
   ]
  },
  {
   "cell_type": "code",
   "execution_count": null,
   "metadata": {},
   "outputs": [],
   "source": [
    "your_name='ansu0122'\n",
    "model_save_name='mistral-lora-zno'\n",
    "# model.save_pretrained(model_save_name)  # Local saving\n",
    "# tokenizer.save_pretrained(model_save_name)\n",
    "\n",
    "model.push_to_hub(f\"{your_name}/{model_save_name}\", token = os.environ[\"HF_TOKEN\"], private=True)\n",
    "tokenizer.push_to_hub(f\"{your_name}/{model_save_name}\", token = os.environ[\"HF_TOKEN\"], private=True)"
   ]
  }
 ],
 "metadata": {
  "kernelspec": {
   "display_name": "python3.10-mt-vlm",
   "language": "python",
   "name": "python3"
  },
  "language_info": {
   "codemirror_mode": {
    "name": "ipython",
    "version": 3
   },
   "file_extension": ".py",
   "mimetype": "text/x-python",
   "name": "python",
   "nbconvert_exporter": "python",
   "pygments_lexer": "ipython3",
   "version": "3.10.14"
  }
 },
 "nbformat": 4,
 "nbformat_minor": 2
}
