{
 "cells": [
  {
   "cell_type": "code",
   "execution_count": 10,
   "metadata": {},
   "outputs": [],
   "source": [
    "from models.mistralocr import MistralOCRModel \n",
    "import docdataset as dd\n",
    "import prompt_templates as pt\n",
    "from prompt_templates import TextSchema, TableSchema, TitleSchema, ClassSchema\n",
    "import docfocus as df"
   ]
  },
  {
   "cell_type": "code",
   "execution_count": null,
   "metadata": {},
   "outputs": [],
   "source": [
    "dataset = dd.download_dataset()['train']"
   ]
  },
  {
   "cell_type": "markdown",
   "metadata": {},
   "source": [
    "## Prompting Proprietary Models"
   ]
  },
  {
   "cell_type": "code",
   "execution_count": 6,
   "metadata": {},
   "outputs": [],
   "source": [
    "model = MistralOCRModel()"
   ]
  },
  {
   "cell_type": "code",
   "execution_count": null,
   "metadata": {},
   "outputs": [],
   "source": [
    "# OCR Doc sections\n",
    "dataset = dataset.shuffle(seed=42)\n",
    "\n",
    "model.set_prompt(pt.get_text_template())\n",
    "model.set_output_schema(TextSchema)\n",
    "df.ocr_dataset(dataset, \"../results/ocr_text_mistralocr_v2.jsonl\", ocr_fn= model.process_doc_image, chunk_size=2, lang=\"ukr\")"
   ]
  },
  {
   "cell_type": "code",
   "execution_count": null,
   "metadata": {},
   "outputs": [],
   "source": [
    "# Table Extraction Table sections\n",
    "dataset = dataset.shuffle(seed=42)\n",
    "\n",
    "model.set_prompt(pt.get_table_template())\n",
    "model.set_output_schema(TableSchema)\n",
    "df.ocr_dataset(dataset, \"../results/table_table_mistralocr.jsonl\", ocr_fn= model.process_doc_image, chunk_size=2, lang=\"ukr\", region_types=[\"table\"])"
   ]
  }
 ],
 "metadata": {
  "kernelspec": {
   "display_name": "python3.10-mt-vlm",
   "language": "python",
   "name": "python3"
  },
  "language_info": {
   "codemirror_mode": {
    "name": "ipython",
    "version": 3
   },
   "file_extension": ".py",
   "mimetype": "text/x-python",
   "name": "python",
   "nbconvert_exporter": "python",
   "pygments_lexer": "ipython3",
   "version": "3.10.14"
  }
 },
 "nbformat": 4,
 "nbformat_minor": 2
}
