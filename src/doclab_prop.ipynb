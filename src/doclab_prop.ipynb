{
 "cells": [
  {
   "cell_type": "code",
   "execution_count": 1,
   "metadata": {},
   "outputs": [
    {
     "name": "stderr",
     "output_type": "stream",
     "text": [
      "/opt/miniconda3/envs/python3.10-mt-vlm/lib/python3.10/site-packages/tqdm/auto.py:21: TqdmWarning: IProgress not found. Please update jupyter and ipywidgets. See https://ipywidgets.readthedocs.io/en/stable/user_install.html\n",
      "  from .autonotebook import tqdm as notebook_tqdm\n"
     ]
    }
   ],
   "source": [
    "from models.mistralocr import MistralOCRModel \n",
    "import docdataset as dd\n",
    "import prompt_templates as pt\n",
    "from prompt_templates import TextSchema, TableSchema, TitleSchema, ClassSchema\n",
    "import docfocus as df"
   ]
  },
  {
   "cell_type": "code",
   "execution_count": 2,
   "metadata": {},
   "outputs": [],
   "source": [
    "dataset = dd.download_dataset()['train']"
   ]
  },
  {
   "cell_type": "markdown",
   "metadata": {},
   "source": [
    "## Prompting Proprietary Models"
   ]
  },
  {
   "cell_type": "code",
   "execution_count": 3,
   "metadata": {},
   "outputs": [],
   "source": [
    "model = MistralOCRModel()"
   ]
  },
  {
   "cell_type": "code",
   "execution_count": null,
   "metadata": {},
   "outputs": [],
   "source": [
    "# OCR Doc sections\n",
    "dataset = dataset.shuffle(seed=42)\n",
    "\n",
    "# model.set_prompt(pt.get_text_template())\n",
    "# model.set_output_schema(TextSchema)\n",
    "df.ocr_dataset(dataset, \"../results/ocr_text_mistralocr.jsonl\", ocr_fn= model.process_doc_image, chunk_size=2, lang=\"ukr\", region_types=[\"text\"])"
   ]
  },
  {
   "cell_type": "code",
   "execution_count": null,
   "metadata": {},
   "outputs": [],
   "source": [
    "# OCR Doc sections\n",
    "dataset = dataset.shuffle(seed=42)\n",
    "\n",
    "# model.set_prompt(pt.get_text_template())\n",
    "# model.set_output_schema(TextSchema)\n",
    "df.ocr_dataset(dataset, \"../results/ocr_whole_doc_mistralocr.jsonl\", ocr_fn= model.process_doc_image, chunk_size=2, lang=\"ukr\")"
   ]
  },
  {
   "cell_type": "code",
   "execution_count": 17,
   "metadata": {},
   "outputs": [
    {
     "data": {
      "text/plain": [
       "1000"
      ]
     },
     "execution_count": 17,
     "metadata": {},
     "output_type": "execute_result"
    }
   ],
   "source": [
    "len(dataset)"
   ]
  },
  {
   "cell_type": "code",
   "execution_count": 20,
   "metadata": {},
   "outputs": [
    {
     "data": {
      "text/plain": [
       "978"
      ]
     },
     "execution_count": 20,
     "metadata": {},
     "output_type": "execute_result"
    }
   ],
   "source": [
    "subset = dataset.select(range(22, len(dataset)))\n",
    "len(subset)"
   ]
  },
  {
   "cell_type": "code",
   "execution_count": 21,
   "metadata": {},
   "outputs": [
    {
     "data": {
      "text/plain": [
       "datasets.arrow_dataset.Dataset"
      ]
     },
     "execution_count": 21,
     "metadata": {},
     "output_type": "execute_result"
    }
   ],
   "source": [
    "type(subset)"
   ]
  },
  {
   "cell_type": "code",
   "execution_count": null,
   "metadata": {},
   "outputs": [],
   "source": [
    "# Table Extraction Table sections\n",
    "dataset = dataset.shuffle(seed=42)\n",
    "subset = dataset.select(range(22, len(dataset)))\n",
    "\n",
    "model.set_prompt(pt.get_table_template())\n",
    "model.set_output_schema(TableSchema)\n",
    "df.ocr_dataset(subset, \"../results/table_table_mistralocr.jsonl\", ocr_fn= model.process_doc_image, chunk_size=2, lang=\"ukr\", region_types=[\"table\"])"
   ]
  },
  {
   "cell_type": "code",
   "execution_count": null,
   "metadata": {},
   "outputs": [],
   "source": [
    "# Table Extraction Doc sections\n",
    "dataset = dataset.shuffle(seed=42)\n",
    "subset = dataset.select(range(46, len(dataset)))\n",
    "\n",
    "model.set_prompt(pt.get_table_template())\n",
    "model.set_output_schema(TableSchema)\n",
    "df.ocr_dataset(subset, \"../results/table_whole_doc_mistralocr.jsonl\", ocr_fn= model.process_doc_image, chunk_size=2, lang=\"ukr\")"
   ]
  },
  {
   "cell_type": "code",
   "execution_count": null,
   "metadata": {},
   "outputs": [],
   "source": [
    "# Layout Analysis Doc sections\n",
    "dataset = dataset.shuffle(seed=42)\n",
    "\n",
    "model.set_prompt(pt.get_title_template())\n",
    "model.set_output_schema(TitleSchema)\n",
    "df.ocr_dataset(dataset, \"../results/layout_whole_doc_mistralocr.jsonl\", ocr_fn= model.process_doc_image, chunk_size=2, lang=\"ukr\")"
   ]
  },
  {
   "cell_type": "code",
   "execution_count": null,
   "metadata": {},
   "outputs": [],
   "source": [
    "# Classification Doc sections\n",
    "dataset = dataset.shuffle(seed=42)\n",
    "\n",
    "model.set_prompt(pt.get_class_template())\n",
    "model.set_output_schema(ClassSchema)\n",
    "df.ocr_dataset(dataset, \"../results/class_whole_doc_mistralocr.jsonl\", ocr_fn= model.process_doc_image, chunk_size=2, lang=\"ukr\")"
   ]
  }
 ],
 "metadata": {
  "kernelspec": {
   "display_name": "python3.10-mt-vlm",
   "language": "python",
   "name": "python3"
  },
  "language_info": {
   "codemirror_mode": {
    "name": "ipython",
    "version": 3
   },
   "file_extension": ".py",
   "mimetype": "text/x-python",
   "name": "python",
   "nbconvert_exporter": "python",
   "pygments_lexer": "ipython3",
   "version": "3.10.14"
  }
 },
 "nbformat": 4,
 "nbformat_minor": 2
}
