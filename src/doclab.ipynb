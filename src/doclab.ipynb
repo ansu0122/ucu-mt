{
 "cells": [
  {
   "cell_type": "code",
   "execution_count": 1,
   "metadata": {},
   "outputs": [
    {
     "name": "stdout",
     "output_type": "stream",
     "text": [
      "🦥 Unsloth: Will patch your computer to enable 2x faster free finetuning.\n"
     ]
    },
    {
     "name": "stderr",
     "output_type": "stream",
     "text": [
      "/opt/conda/envs/python3.10-mt/lib/python3.10/site-packages/tqdm/auto.py:21: TqdmWarning: IProgress not found. Please update jupyter and ipywidgets. See https://ipywidgets.readthedocs.io/en/stable/user_install.html\n",
      "  from .autonotebook import tqdm as notebook_tqdm\n"
     ]
    },
    {
     "name": "stdout",
     "output_type": "stream",
     "text": [
      "🦥 Unsloth Zoo will now patch everything to make training faster!\n"
     ]
    }
   ],
   "source": [
    "import os\n",
    "import re\n",
    "from unsloth import FastVisionModel\n",
    "from models import qwen2vl_unsloth as qwuns\n",
    "import docdataset as dd\n",
    "import prompt_templates as pt\n",
    "import docfocus as df"
   ]
  },
  {
   "cell_type": "code",
   "execution_count": 2,
   "metadata": {},
   "outputs": [
    {
     "name": "stdout",
     "output_type": "stream",
     "text": [
      "/root/ucu-mt/src\n"
     ]
    },
    {
     "name": "stderr",
     "output_type": "stream",
     "text": [
      "/opt/conda/envs/python3.10-mt/lib/python3.10/site-packages/IPython/core/magics/osm.py:417: UserWarning: This is now an optional IPython functionality, setting dhist requires you to install the `pickleshare` library.\n",
      "  self.shell.db['dhist'] = compress_dhist(dhist)[-100:]\n"
     ]
    }
   ],
   "source": [
    "cd /root/ucu-mt/src"
   ]
  },
  {
   "cell_type": "code",
   "execution_count": 3,
   "metadata": {},
   "outputs": [],
   "source": [
    "dataset = dd.download_dataset()['train']"
   ]
  },
  {
   "cell_type": "code",
   "execution_count": 4,
   "metadata": {},
   "outputs": [
    {
     "name": "stdout",
     "output_type": "stream",
     "text": [
      "==((====))==  Unsloth 2025.3.19: Fast Qwen2 patching. Transformers: 4.50.3.\n",
      "   \\\\   /|    NVIDIA GeForce RTX 3090. Num GPUs = 1. Max memory: 23.684 GB. Platform: Linux.\n",
      "O^O/ \\_/ \\    Torch: 2.6.0+cu124. CUDA: 8.6. CUDA Toolkit: 12.4. Triton: 3.2.0\n",
      "\\        /    Bfloat16 = TRUE. FA [Xformers = 0.0.29.post3. FA2 = False]\n",
      " \"-____-\"     Free license: http://github.com/unslothai/unsloth\n",
      "Unsloth: Fast downloading is enabled - ignore downloading bars which are red colored!\n",
      "Unsloth: QLoRA and full finetuning all not selected. Switching to 16bit LoRA.\n"
     ]
    },
    {
     "name": "stderr",
     "output_type": "stream",
     "text": [
      "Loading checkpoint shards: 100%|██████████| 4/4 [00:01<00:00,  2.09it/s]\n",
      "Using a slow image processor as `use_fast` is unset and a slow processor was saved with this model. `use_fast=True` will be the default behavior in v4.52, even if the model was saved with a slow processor. This will result in minor differences in outputs. You'll still be able to use a slow processor with `use_fast=False`.\n"
     ]
    }
   ],
   "source": [
    "model = qwuns.QwenVL2_LLM(\n",
    "    model_name = \"unsloth/Qwen2-VL-7B-Instruct\",\n",
    "    max_new_tokens = 4096,\n",
    "    device = \"cuda\",\n",
    "    load_in_4bit = False,\n",
    "    use_gradient_checkpointing = \"unsloth\"\n",
    ")"
   ]
  },
  {
   "cell_type": "code",
   "execution_count": 5,
   "metadata": {},
   "outputs": [
    {
     "name": "stdout",
     "output_type": "stream",
     "text": [
      "result: КЕЙНСІАНСЬКА ФУНКЦІЯ ІНВЕСТИЦІЙ\n",
      "\n",
      "Кейнсіанська функція інвестицій — найпопулярніша серед функцій для визначення інвестиційного клімату, яку розробив Джон Мейнард Кейнс.\n",
      "\n",
      "ГЕК (%) \n",
      "Лінія ефективності \n",
      "20% \n",
      "18% \n",
      "12% \n",
      "8% проектів\n",
      "\n",
      "ВЗАСМОЗВ'ЯЗОК ГРАНИЧНОЇ ЕФЕКТИВНОСТІ ТА ПРОЦЕНТНОЇ СТАВКИ\n",
      "\n",
      "Таблиця: Фінансова ефективність інвестиційних проектів\n",
      "\n",
      "| Інвестиційні Проекти | Границя Ефективність Капіталу (%) | Інвестиційний Попит при Різних Процентних Ставках |\n",
      "|----------------------|-----------------------------------|--------------------------------------------------|\n",
      "| 20%                  | 18%                               | 12%                                               | 8%       | 15%       | 10%       |\n",
      "| Процентна Ставка     | 20%                               | 18%                                               | 12%                                               | 8%       | 0%        | Проекти 1 і 2 |\n",
      "| Зниження             | N/A                               | N/A                                               | N/A                                               | N/A      | N/A       | Проекти 1, 2 і 3 |\n",
      "| Інвестиційний Попит  | 0                                 | 0                                                 | Проекти 1 та 2                                   | Проекти 1, 2 і 3 | Всі Проекти | Максимальний |\n",
      "| Зниження             | N/A                               | N/A                                               | N/A                                               | N/A      | N/A       | Зростання   |\n",
      "\n",
      "Огляд кейнсіанської функції інвестицій\n",
      "\n",
      "Кейнсіанська функція інвестицій, розроблена Джоном Мейнардом Кейнсом, є популярною методологією для оцінки інвестиційного клімату. Вона базується на концепції чистого прибутку, який залишається після покриття поточних витрат та амортизації, а також враховує дисконтування очікуваних майбутніх прибутків протягом строку служби капіталу.\n",
      "\n",
      "Ключові деталі функції та її застосування\n",
      "\n",
      "Головними елементами кейнсіанської функції інвестицій є гранична ефективність капіталу, яка визначає вигідність інвестицій, та порівняння очікуваних прибутків з відновною вартістю капітального майна. Відносини між інвестиційним попитом та процентною ставкою демонструють обернену залежність, що впливає на рішення інвесторів.\n",
      "\n",
      "Практичні приклади застосування функції\n",
      "\n",
      "Реалізація кейнсіанської функції інвестицій вимагає аналізу процентних ставок і граничної ефективності, щоб забезпечити економічну доцільність проектів. При зниженні процентної ставки інвестиційний попит зростає, що дозволяє виконувати більше проектів при високій ефективності капіталу.\n"
     ]
    }
   ],
   "source": [
    "image = dataset[-10][\"image\"]\n",
    "\n",
    "model.set_prompt(pt.get_text_template())\n",
    "\n",
    "result = model.process_doc_image(image)\n",
    "\n",
    "if result:\n",
    "    print(\"result:\", result)\n",
    "else:\n",
    "    print(\"Failed to parse the response.\")"
   ]
  },
  {
   "cell_type": "code",
   "execution_count": null,
   "metadata": {},
   "outputs": [],
   "source": [
    "# OCR Text sections\n",
    "dataset = dataset.shuffle(seed=42)\n",
    "\n",
    "model.set_prompt(pt.get_text_template())\n",
    "df.ocr_dataset(dataset, \"../results/ocr_text_qwen2vl.jsonl\", ocr_fn= model.process_doc_image, chunk_size=2, lang=\"ukr\", region_types=[\"text\"])"
   ]
  },
  {
   "cell_type": "code",
   "execution_count": null,
   "metadata": {},
   "outputs": [],
   "source": [
    "# OCR Doc sections\n",
    "dataset = dataset.shuffle(seed=42)\n",
    "\n",
    "model.set_prompt(pt.get_text_template())\n",
    "df.ocr_dataset(dataset, \"../results/ocr_whole_doc_qwen2vl.jsonl\", ocr_fn= model.process_doc_image, chunk_size=2, lang=\"ukr\")"
   ]
  },
  {
   "cell_type": "code",
   "execution_count": null,
   "metadata": {},
   "outputs": [],
   "source": [
    "# Table Extraction Table sections\n",
    "dataset = dataset.shuffle(seed=42)\n",
    "\n",
    "model.set_prompt(pt.get_table_template())\n",
    "df.ocr_dataset(dataset, \"../results/table_table_qwen2vl.jsonl\", ocr_fn= model.process_doc_image, chunk_size=2, lang=\"ukr\", region_types=[\"table\"])"
   ]
  },
  {
   "cell_type": "code",
   "execution_count": null,
   "metadata": {},
   "outputs": [],
   "source": [
    "# Table Extraction Doc sections\n",
    "dataset = dataset.shuffle(seed=42)\n",
    "\n",
    "model.set_prompt(pt.get_table_template())\n",
    "df.ocr_dataset(dataset, \"../results/table_whole_doc_qwen2vl_v2.jsonl\", ocr_fn= model.process_doc_image, chunk_size=2, lang=\"ukr\")"
   ]
  },
  {
   "cell_type": "code",
   "execution_count": null,
   "metadata": {},
   "outputs": [],
   "source": [
    "# Layout Analysis Doc sections\n",
    "dataset = dataset.shuffle(seed=42)\n",
    "\n",
    "model.set_prompt(pt.get_title_template())\n",
    "df.ocr_dataset(dataset, \"../results/layout_whole_doc_qwen2vl_v2.jsonl\", ocr_fn= model.process_doc_image, chunk_size=2, lang=\"ukr\")"
   ]
  },
  {
   "cell_type": "code",
   "execution_count": null,
   "metadata": {},
   "outputs": [],
   "source": [
    "# Classification Doc sections\n",
    "dataset = dataset.shuffle(seed=42)\n",
    "\n",
    "model.set_prompt(pt.get_class_template())\n",
    "df.ocr_dataset(dataset, \"../results/class_whole_doc_qwen2vl.jsonl\", ocr_fn= model.process_doc_image, chunk_size=2, lang=\"ukr\")"
   ]
  },
  {
   "cell_type": "markdown",
   "metadata": {},
   "source": [
    "## Release Memory"
   ]
  },
  {
   "cell_type": "code",
   "execution_count": 6,
   "metadata": {},
   "outputs": [],
   "source": [
    "import torch\n",
    "del model \n",
    "torch.cuda.empty_cache()"
   ]
  },
  {
   "cell_type": "code",
   "execution_count": 12,
   "metadata": {},
   "outputs": [],
   "source": [
    "import torch\n",
    "import gc\n",
    "gc.collect()\n",
    "torch.cuda.empty_cache()"
   ]
  },
  {
   "cell_type": "code",
   "execution_count": 13,
   "metadata": {},
   "outputs": [],
   "source": [
    "for var in dir():\n",
    "    if isinstance(eval(var), torch.Tensor):\n",
    "        del globals()[var]\n",
    "torch.cuda.empty_cache()"
   ]
  },
  {
   "cell_type": "code",
   "execution_count": 9,
   "metadata": {},
   "outputs": [
    {
     "name": "stdout",
     "output_type": "stream",
     "text": [
      "Thu Mar 27 19:34:16 2025       \n",
      "+-----------------------------------------------------------------------------------------+\n",
      "| NVIDIA-SMI 550.107.02             Driver Version: 550.107.02     CUDA Version: 12.4     |\n",
      "|-----------------------------------------+------------------------+----------------------+\n",
      "| GPU  Name                 Persistence-M | Bus-Id          Disp.A | Volatile Uncorr. ECC |\n",
      "| Fan  Temp   Perf          Pwr:Usage/Cap |           Memory-Usage | GPU-Util  Compute M. |\n",
      "|                                         |                        |               MIG M. |\n",
      "|=========================================+========================+======================|\n",
      "|   0  NVIDIA GeForce RTX 3090        On  |   00000000:09:00.0 Off |                  N/A |\n",
      "| 30%   47C    P5             59W /  350W |     300MiB /  24576MiB |      0%      Default |\n",
      "|                                         |                        |                  N/A |\n",
      "+-----------------------------------------+------------------------+----------------------+\n",
      "                                                                                         \n",
      "+-----------------------------------------------------------------------------------------+\n",
      "| Processes:                                                                              |\n",
      "|  GPU   GI   CI        PID   Type   Process name                              GPU Memory |\n",
      "|        ID   ID                                                               Usage      |\n",
      "|=========================================================================================|\n",
      "+-----------------------------------------------------------------------------------------+\n"
     ]
    }
   ],
   "source": [
    "!nvidia-smi"
   ]
  },
  {
   "cell_type": "code",
   "execution_count": 21,
   "metadata": {},
   "outputs": [
    {
     "name": "stdout",
     "output_type": "stream",
     "text": [
      "Memory allocated: 10.12 MB\n",
      "Memory reserved: 40.00 MB\n"
     ]
    }
   ],
   "source": [
    "print(f\"Memory allocated: {torch.cuda.memory_allocated() / 1024 / 1024:.2f} MB\")\n",
    "print(f\"Memory reserved: {torch.cuda.memory_reserved() / 1024 / 1024:.2f} MB\")"
   ]
  }
 ],
 "metadata": {
  "kernelspec": {
   "display_name": "python3.10-mt",
   "language": "python",
   "name": "python3"
  },
  "language_info": {
   "codemirror_mode": {
    "name": "ipython",
    "version": 3
   },
   "file_extension": ".py",
   "mimetype": "text/x-python",
   "name": "python",
   "nbconvert_exporter": "python",
   "pygments_lexer": "ipython3",
   "version": "3.10.14"
  }
 },
 "nbformat": 4,
 "nbformat_minor": 2
}
